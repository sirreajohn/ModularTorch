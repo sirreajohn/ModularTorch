{
 "cells": [
  {
   "cell_type": "code",
   "execution_count": 1,
   "metadata": {},
   "outputs": [],
   "source": [
    "import torch\n",
    "import torch.nn as nn"
   ]
  },
  {
   "attachments": {},
   "cell_type": "markdown",
   "metadata": {},
   "source": [
    "## Testing this"
   ]
  },
  {
   "cell_type": "code",
   "execution_count": 2,
   "metadata": {},
   "outputs": [],
   "source": [
    "from modular_torch.Trainers import TorchTrainer\n",
    "from modular_torch.DataSetup import get_data, get_data_loaders\n",
    "from modular_torch.ModelBuilder import get_custom_effnet_b2"
   ]
  },
  {
   "cell_type": "code",
   "execution_count": 3,
   "metadata": {},
   "outputs": [
    {
     "name": "stdout",
     "output_type": "stream",
     "text": [
      "[INFO] Data will be saved at 'data/food_data'\n",
      "[INFO] Path exists, Skipping Download!\n"
     ]
    }
   ],
   "source": [
    "data_path = get_data()"
   ]
  },
  {
   "cell_type": "code",
   "execution_count": 4,
   "metadata": {},
   "outputs": [],
   "source": [
    "model, transforms = get_custom_effnet_b2(3)"
   ]
  },
  {
   "cell_type": "code",
   "execution_count": 5,
   "metadata": {},
   "outputs": [],
   "source": [
    "train_loader, test_loader, class_names = get_data_loaders(data_path / \"train\", data_path / \"test\", 32, transforms)"
   ]
  },
  {
   "cell_type": "code",
   "execution_count": 6,
   "metadata": {},
   "outputs": [],
   "source": [
    "loss_fn = nn.CrossEntropyLoss()\n",
    "optimizer = torch.optim.Adam(model.parameters(), lr = 0.001)"
   ]
  },
  {
   "cell_type": "code",
   "execution_count": 7,
   "metadata": {},
   "outputs": [],
   "source": [
    "trainer = TorchTrainer()"
   ]
  },
  {
   "cell_type": "code",
   "execution_count": 8,
   "metadata": {},
   "outputs": [],
   "source": [
    "class AccuracyFn:\n",
    "    def __init__(self):\n",
    "        pass\n",
    "           \n",
    "    def __call__(self, y_logits: torch.Tensor, y_true:torch.Tensor) -> float:\n",
    "        \n",
    "        y_probs = torch.argmax(torch.softmax(y_logits, dim = 1), dim = 1)\n",
    "        return ((y_probs == y_true).sum().item() / len(y_probs))\n",
    "\n",
    "    def _get_name(self):\n",
    "        return \"accuracy\""
   ]
  },
  {
   "cell_type": "code",
   "execution_count": 10,
   "metadata": {},
   "outputs": [
    {
     "name": "stdout",
     "output_type": "stream",
     "text": [
      "[INFO] created summary writer, saving to runs/[d]2023-05-25_[t]10_06_40/Guilty_Crown_51/EfficientNet_51\n"
     ]
    },
    {
     "name": "stderr",
     "output_type": "stream",
     "text": [
      " 50%|█████     | 1/2 [00:37<00:37, 37.28s/it]"
     ]
    },
    {
     "name": "stdout",
     "output_type": "stream",
     "text": [
      "----- Epoch: 1 / 2 -----\n",
      "-loss\n",
      "\t-Train: 0.7829\n",
      "\t-Test: 0.7743\n",
      "-accuracy\n",
      "\t-Train: 0.7422\n",
      "\t-Test: 0.8352\n",
      "\n"
     ]
    },
    {
     "name": "stderr",
     "output_type": "stream",
     "text": [
      "100%|██████████| 2/2 [01:31<00:00, 45.99s/it]"
     ]
    },
    {
     "name": "stdout",
     "output_type": "stream",
     "text": [
      "----- Epoch: 2 / 2 -----\n",
      "-loss\n",
      "\t-Train: 0.6840\n",
      "\t-Test: 0.6666\n",
      "-accuracy\n",
      "\t-Train: 0.9062\n",
      "\t-Test: 0.8561\n",
      "\n"
     ]
    },
    {
     "name": "stderr",
     "output_type": "stream",
     "text": [
      "\n"
     ]
    },
    {
     "data": {
      "text/plain": [
       "(defaultdict(list,\n",
       "             {'loss': [0.7829397991299629, 0.6840172559022903],\n",
       "              'accuracy': [0.7421875, 0.90625]}),\n",
       " defaultdict(list,\n",
       "             {'loss': [0.7743304769198099, 0.666550894578298],\n",
       "              'accuracy': [0.8352272727272728, 0.8560606060606061]}))"
      ]
     },
     "execution_count": 10,
     "metadata": {},
     "output_type": "execute_result"
    }
   ],
   "source": [
    "trainer.fit(model, loss_fn, optimizer, 2, train_loader, test_loader, \"cpu\", debug_mode = False, add_graph = False, metrics = [AccuracyFn()])"
   ]
  },
  {
   "cell_type": "code",
   "execution_count": null,
   "metadata": {},
   "outputs": [],
   "source": []
  }
 ],
 "metadata": {
  "kernelspec": {
   "display_name": "Python 3",
   "language": "python",
   "name": "python3"
  },
  "language_info": {
   "codemirror_mode": {
    "name": "ipython",
    "version": 3
   },
   "file_extension": ".py",
   "mimetype": "text/x-python",
   "name": "python",
   "nbconvert_exporter": "python",
   "pygments_lexer": "ipython3",
   "version": "3.11.1"
  },
  "orig_nbformat": 4
 },
 "nbformat": 4,
 "nbformat_minor": 2
}
